{
 "cells": [
  {
   "cell_type": "code",
   "execution_count": 2,
   "id": "fb95778c",
   "metadata": {},
   "outputs": [],
   "source": [
    "import tkinter as tk\n",
    "from tkinter import filedialog\n",
    "\n",
    "class TextEditor:\n",
    "    def __init__(self, root):\n",
    "        self.root = root\n",
    "        self.root.title(\"Text Editor\")\n",
    "        self.root.geometry(\"600x400\")\n",
    "\n",
    "        self.text = tk.Text(self.root, wrap=\"word\", undo=True)\n",
    "        self.text.pack(expand=\"yes\", fill=\"both\")\n",
    "\n",
    "        menu_bar = tk.Menu(root)\n",
    "        root.config(menu=menu_bar)\n",
    "\n",
    "        file_menu = tk.Menu(menu_bar, tearoff=0)\n",
    "        menu_bar.add_cascade(label=\"File\", menu=file_menu)\n",
    "        file_menu.add_command(label=\"New\", command=self.new_file)\n",
    "        file_menu.add_command(label=\"Open\", command=self.open_file)\n",
    "        file_menu.add_command(label=\"Save\", command=self.save_file)\n",
    "        file_menu.add_separator()\n",
    "        file_menu.add_command(label=\"Exit\", command=root.destroy)\n",
    "\n",
    "    def new_file(self):\n",
    "        self.text.delete(\"1.0\", tk.END)\n",
    "\n",
    "    def open_file(self):\n",
    "        file_path = filedialog.askopenfilename(filetypes=[(\"All Files\", \"*.*\")])\n",
    "        if file_path:\n",
    "            try:\n",
    "                with open(file_path, \"r\", encoding=\"utf-8\", errors=\"ignore\") as file:\n",
    "                    content = file.read()\n",
    "                    self.text.delete(\"1.0\", tk.END)\n",
    "                    self.text.insert(tk.END, content)\n",
    "            except Exception as e:\n",
    "                self.show_error_message(f\"Error opening file: {e}\")\n",
    "\n",
    "    def save_file(self):\n",
    "        file_path = filedialog.asksaveasfilename(defaultextension=\"\", filetypes=[(\"All Files\", \"*.*\")])\n",
    "        if file_path:\n",
    "            try:\n",
    "                with open(file_path, \"w\") as file:\n",
    "                    content = self.text.get(\"1.0\", tk.END)\n",
    "                    file.write(content)\n",
    "            except Exception as e:\n",
    "                self.show_error_message(f\"Error saving file: {e}\")\n",
    "\n",
    "    def show_error_message(self, message):\n",
    "        error_window = tk.Toplevel(self.root)\n",
    "        error_window.title(\"Error\")\n",
    "        error_label = tk.Label(error_window, text=message)\n",
    "        error_label.pack()\n",
    "\n",
    "if __name__ == \"__main__\":\n",
    "    root = tk.Tk()\n",
    "    app = TextEditor(root)\n",
    "    root.mainloop()\n"
   ]
  },
  {
   "cell_type": "code",
   "execution_count": null,
   "id": "54d130a7",
   "metadata": {},
   "outputs": [],
   "source": []
  }
 ],
 "metadata": {
  "kernelspec": {
   "display_name": "Python 3 (ipykernel)",
   "language": "python",
   "name": "python3"
  },
  "language_info": {
   "codemirror_mode": {
    "name": "ipython",
    "version": 3
   },
   "file_extension": ".py",
   "mimetype": "text/x-python",
   "name": "python",
   "nbconvert_exporter": "python",
   "pygments_lexer": "ipython3",
   "version": "3.10.9"
  }
 },
 "nbformat": 4,
 "nbformat_minor": 5
}
